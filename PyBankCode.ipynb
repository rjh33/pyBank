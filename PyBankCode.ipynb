{
 "cells": [
  {
   "cell_type": "code",
   "execution_count": 1,
   "metadata": {},
   "outputs": [],
   "source": [
    "import os\n",
    "import csv\n",
    "import math\n",
    "\n",
    "date, revenue = ([] for i in range(2))\n",
    "\n",
    "# Path to collect data from the Resources folder\n",
    "budgetDataCSV = os.path.join('budget_data.csv')\n",
    "\n",
    "dateList=[]\n",
    "revenueList=[]\n"
   ]
  },
  {
   "cell_type": "code",
   "execution_count": 2,
   "metadata": {},
   "outputs": [],
   "source": [
    "# Read in the CSV file\n",
    "with open(budgetDataCSV, 'r') as csvfile:\n",
    "\n",
    "    # Split the data on commas\n",
    "    csvreader = csv.reader(csvfile, delimiter=',')\n",
    "\n",
    "    header=next(csvreader)\n",
    "    row_num = 0\n",
    "    for row in csvreader:\n",
    "        dateList.append(row[0] ) \n",
    "        revenueList.append(row[1])\n",
    "        row_num +=1\n",
    "  \n",
    "\n",
    "\n",
    "    "
   ]
  },
  {
   "cell_type": "code",
   "execution_count": 3,
   "metadata": {},
   "outputs": [
    {
     "name": "stdout",
     "output_type": "stream",
     "text": [
      "86\n"
     ]
    }
   ],
   "source": [
    "totalMonths = len(dateList)\n",
    "print(totalMonths)\n",
    "\n",
    "       "
   ]
  },
  {
   "cell_type": "code",
   "execution_count": 4,
   "metadata": {},
   "outputs": [],
   "source": [
    "\n",
    "revenue_sum=0\n",
    "for i in revenueList:\n",
    "    revenue_sum += int(i)"
   ]
  },
  {
   "cell_type": "code",
   "execution_count": null,
   "metadata": {},
   "outputs": [],
   "source": []
  },
  {
   "cell_type": "code",
   "execution_count": 5,
   "metadata": {},
   "outputs": [],
   "source": [
    "maxRevenue =0\n",
    "for j in range(len(revenueList)):\n",
    "    if int(revenueList[j])-int(revenueList[j-1]) > maxRevenue:\n",
    "       maxRevenue=int(revenueList[j])-int(revenueList[j-1])\n",
    "       maxDate = dateList[j]\n",
    "                               \n",
    "\n"
   ]
  },
  {
   "cell_type": "code",
   "execution_count": 6,
   "metadata": {},
   "outputs": [],
   "source": [
    "\n",
    "minRevenue=0\n",
    "for h in range(len(revenueList)):\n",
    "    if int(revenueList[h])-int(revenueList[h-1]) < minRevenue:\n",
    "       minRevenue=int(revenueList[h])-int(revenueList[h-1])\n",
    "       minDate = dateList[h]\n",
    "                               \n",
    "\n"
   ]
  },
  {
   "cell_type": "code",
   "execution_count": 7,
   "metadata": {},
   "outputs": [],
   "source": [
    "averageRevenue = revenue_sum/(len(dateList)-1)\n",
    "\n",
    "averageRevenue = str(round(averageRevenue, 2))\n"
   ]
  },
  {
   "cell_type": "code",
   "execution_count": 10,
   "metadata": {},
   "outputs": [],
   "source": [
    "# Set variable for output file\n",
    "output_file = os.path.join(\"pybank.txt\")\n",
    "with open(output_file, \"w\", newline=\"\") as datafile: \n",
    "   \n",
    "    datafile.write(f\"FinancialAnalysis \\n\")\n",
    "    datafile.write(f\"---------------\\n\")\n",
    "    datafile.write(f\"Total Months: {totalMonths}\\n\")\n",
    "    datafile.write(f\"Total Revenue: {revenue_sum}\\n\")\n",
    "    datafile.write(f\"AverageChange: {averageRevenue}\\n\")\n",
    "    datafile.write(f\"Greatest Increase In Profits: {maxDate} {maxRevenue}\\n\")\n",
    "    datafile.write(f\"Greatest Decrease In Profits: {minDate} {minRevenue}\\n\")\n",
    "                                                              "
   ]
  },
  {
   "cell_type": "code",
   "execution_count": null,
   "metadata": {},
   "outputs": [],
   "source": [
    "\n",
    "    "
   ]
  },
  {
   "cell_type": "code",
   "execution_count": null,
   "metadata": {},
   "outputs": [],
   "source": []
  },
  {
   "cell_type": "code",
   "execution_count": null,
   "metadata": {},
   "outputs": [],
   "source": []
  }
 ],
 "metadata": {
  "kernelspec": {
   "display_name": "Python 3",
   "language": "python",
   "name": "python3"
  },
  "language_info": {
   "codemirror_mode": {
    "name": "ipython",
    "version": 3
   },
   "file_extension": ".py",
   "mimetype": "text/x-python",
   "name": "python",
   "nbconvert_exporter": "python",
   "pygments_lexer": "ipython3",
   "version": "3.7.0"
  }
 },
 "nbformat": 4,
 "nbformat_minor": 2
}
